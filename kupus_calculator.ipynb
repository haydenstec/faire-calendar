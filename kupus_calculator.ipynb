{
 "cells": [
  {
   "cell_type": "code",
   "execution_count": 5,
   "id": "8b83ce64-3d1d-48d6-b21e-9f0cc43b6b61",
   "metadata": {},
   "outputs": [],
   "source": [
    "from datetime import datetime, timedelta"
   ]
  },
  {
   "cell_type": "code",
   "execution_count": 7,
   "id": "594420d3-fe93-4962-8d0b-d511ce5b74e6",
   "metadata": {},
   "outputs": [
    {
     "name": "stdout",
     "output_type": "stream",
     "text": [
      "Sunday, August 23, 2009 - Cabbage\n",
      "Tuesday, September 07, 2010 - Cabbage\n",
      "Thursday, September 22, 2011 - Cabbage\n",
      "Saturday, October 06, 2012 - Cabbage\n",
      "Monday, October 21, 2013 - Cabbage\n",
      "Wednesday, November 05, 2014 - Cabbage\n",
      "Friday, November 20, 2015 - Cabbage\n",
      "Sunday, December 04, 2016 - Cabbage\n",
      "Tuesday, December 19, 2017 - Cabbage\n",
      "Thursday, January 03, 2019 - Watermelon\n",
      "Saturday, January 18, 2020 - Cabbage\n",
      "Monday, February 01, 2021 - Cabbage\n",
      "Wednesday, February 16, 2022 - Cabbage\n",
      "Friday, March 03, 2023 - Cabbage\n",
      "Sunday, March 17, 2024 - Cabbage\n",
      "Tuesday, April 01, 2025 - Cabbage\n",
      "Thursday, April 16, 2026 - Cabbage\n"
     ]
    }
   ],
   "source": [
    "# establish Kupus start date, interval of 380 day Tilburian Calendar, and date storage\n",
    "start_date = datetime(2009, 8, 23)\n",
    "interval = 380\n",
    "dates = [start_date]\n",
    "\n",
    "# generate dates until current year\n",
    "while dates[-1].year <= datetime.now().year:\n",
    "    dates.append(dates[-1] + timedelta(days=interval))\n",
    "\n",
    "for i, date in enumerate(dates):\n",
    "    cycle_year = (i % 10) + 1  # Cycle resets every 10 years\n",
    "    plant = \"Watermelon\" if cycle_year == 10 else \"Cabbage\"\n",
    "    formatted_date = date.strftime(\"%A, %B %d, %Y\")\n",
    "    print(f\"{formatted_date} - {plant}\")"
   ]
  },
  {
   "cell_type": "markdown",
   "id": "a86c8085-f4d4-4755-a20e-5691983e087f",
   "metadata": {},
   "source": [
    "Now let's identify what days within the Tilburian year certain historical events occurred to establish in the calendar program"
   ]
  },
  {
   "cell_type": "code",
   "execution_count": 14,
   "id": "a004b858-133f-4958-9752-56bf864a9648",
   "metadata": {},
   "outputs": [
    {
     "data": {
      "text/plain": [
       "[('Sunday, August 23, 2009', (1, 1)),\n",
       " ('Tuesday, September 07, 2010', (2, 1)),\n",
       " ('Thursday, September 22, 2011', (3, 1)),\n",
       " ('Saturday, October 06, 2012', (4, 1)),\n",
       " ('Monday, October 21, 2013', (5, 1)),\n",
       " ('Wednesday, November 05, 2014', (6, 1)),\n",
       " ('Friday, November 20, 2015', (7, 1)),\n",
       " ('Sunday, December 04, 2016', (8, 1)),\n",
       " ('Tuesday, December 19, 2017', (9, 1)),\n",
       " ('Thursday, January 03, 2019', (10, 1)),\n",
       " ('Saturday, January 18, 2020', (11, 1)),\n",
       " ('Monday, February 01, 2021', (12, 1)),\n",
       " ('Wednesday, February 16, 2022', (13, 1)),\n",
       " ('Friday, March 03, 2023', (14, 1)),\n",
       " ('Sunday, March 17, 2024', (15, 1)),\n",
       " ('Tuesday, April 01, 2025', (16, 1)),\n",
       " ('Thursday, April 16, 2026', (17, 1))]"
      ]
     },
     "execution_count": 14,
     "metadata": {},
     "output_type": "execute_result"
    }
   ],
   "source": [
    "# given a Gregorian date, calculates the year and day according to Tilburian reckoning\n",
    "def tilburian_date(gregorian_date):\n",
    "    tilburian_year = ((gregorian_date - start_date).days // 380) + 1\n",
    "    \n",
    "    tilburian_year_start = start_date + timedelta(days=(tilburian_year - 1) * 380)\n",
    "    \n",
    "    tilburian_day = (gregorian_date - tilburian_year_start).days + 1\n",
    "    \n",
    "    return tilburian_year, tilburian_day\n",
    "\n",
    "# test dates: previously established Kupus days\n",
    "test_dates = [\n",
    "    datetime(2009, 8, 23),\n",
    "    datetime(2010, 9, 7),\n",
    "    datetime(2011, 9, 22),\n",
    "    datetime(2012, 10, 6),\n",
    "    datetime(2013, 10, 21),\n",
    "    datetime(2014, 11, 5),\n",
    "    datetime(2015, 11, 20),\n",
    "    datetime(2016, 12, 4),\n",
    "    datetime(2017, 12, 19),\n",
    "    datetime(2019, 1, 3),\n",
    "    datetime(2020, 1, 18),\n",
    "    datetime(2021, 2, 1),\n",
    "    datetime(2022, 2, 16),\n",
    "    datetime(2023, 3, 3),\n",
    "    datetime(2024, 3, 17),\n",
    "    datetime(2025, 4, 1),\n",
    "    datetime(2026, 4, 16),\n",
    "]\n",
    "results = [(date.strftime(\"%A, %B %d, %Y\"), tilburian_date(date)) for date in test_dates]\n",
    "results"
   ]
  },
  {
   "cell_type": "code",
   "execution_count": 16,
   "id": "f68b6bcb-20c4-4b96-b640-5372ea56f8aa",
   "metadata": {},
   "outputs": [
    {
     "name": "stdout",
     "output_type": "stream",
     "text": [
      "Vocations Day: Year 8, Day 168\n",
      "Moving Day: Year -6, Day 82\n",
      "Festival of Le Capitaine: Year 4, Day 125\n",
      "Cleaning Day: Year -4, Day 296\n"
     ]
    }
   ],
   "source": [
    "historical_events = {\n",
    "    \"Vocations Day\": datetime(2017, 5, 20), # Vocations Day (20 May 2017) - commemoration of the first Tilburian priestly vocation\n",
    "    \"Moving Day\": datetime(2002, 8, 1), # Moving Day (1 August 2002) - commemoration of the founding of the Faire Nation, as well as the occupation of the rebelious Fiefdom of Serenity (Tilbury IV), and occupations of every Tilbury house I-IV\n",
    "    \"Festival of Le Capitaine\": datetime(2013, 2, 7), # Festival of Le Capitaine (7 February 2013) - commemoration of the Man Who Saved tilbury\n",
    "    \"Cleaning Day\": datetime(2005, 4, 1), # Cleaning Day (1 April 2005) - commemoration of the First Tilbury Party and presumably first house cleaning (2005)\n",
    "    #\"Adam Lucas' Wedding Anniversary\": datetime(2023, 11, 6),  # Adam Lucas' Wedding Anniversary (6 November ????)\n",
    "}\n",
    "\n",
    "# calculate Tilburian dates for historical events\n",
    "historical_events_tilburian = {\n",
    "    event: tilburian_date(date) for event, date in historical_events.items()\n",
    "}\n",
    "for event, (year, day) in historical_events_tilburian.items():\n",
    "    print(f\"{event}: Year {year}, Day {day}\")"
   ]
  },
  {
   "cell_type": "code",
   "execution_count": null,
   "id": "97184b04-fb2b-4b0e-89a3-65c827da96a1",
   "metadata": {},
   "outputs": [],
   "source": []
  }
 ],
 "metadata": {
  "kernelspec": {
   "display_name": "Python 3 (ipykernel)",
   "language": "python",
   "name": "python3"
  },
  "language_info": {
   "codemirror_mode": {
    "name": "ipython",
    "version": 3
   },
   "file_extension": ".py",
   "mimetype": "text/x-python",
   "name": "python",
   "nbconvert_exporter": "python",
   "pygments_lexer": "ipython3",
   "version": "3.11.7"
  }
 },
 "nbformat": 4,
 "nbformat_minor": 5
}
